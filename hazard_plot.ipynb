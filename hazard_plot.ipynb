{
 "cells": [
  {
   "cell_type": "code",
   "execution_count": 37,
   "id": "c588e3e4-11dd-471f-a5db-cf5098e14ffb",
   "metadata": {},
   "outputs": [],
   "source": [
    "import matplotlib.pyplot as plt\n",
    "import matplotlib as mpl\n",
    "import seaborn as sns\n",
    "import pandas as pd\n",
    "import numpy as np"
   ]
  },
  {
   "cell_type": "code",
   "execution_count": 38,
   "id": "d2c22cd8-5961-42b6-9f27-67ac628b0a7d",
   "metadata": {},
   "outputs": [],
   "source": [
    "hazards = ['Drought', 'Eviction', 'Conflict', 'Flood', 'Other']"
   ]
  },
  {
   "cell_type": "code",
   "execution_count": 39,
   "id": "cf5eb601-e5c0-4959-9654-3d69fb2f7083",
   "metadata": {},
   "outputs": [],
   "source": [
    "hazard_colours = {\n",
    "'Conflict':  \"#F8766D\",    \n",
    "'Drought': \"#A3A500\",\n",
    "'Eviction': \"#00BF7D\",\n",
    "'Flood': \"#00B0F6\",\n",
    "'Other': \"#E76BF3\"\n",
    "}\n",
    "\n",
    "\n",
    "#[\"#F8766D\", \"#A3A500\", \"#00BF7D\", \"#00B0F6\", \"#E76BF3\"]"
   ]
  },
  {
   "cell_type": "code",
   "execution_count": 40,
   "id": "f9a1283f-48dd-4f0d-8f80-6092823d7b71",
   "metadata": {},
   "outputs": [],
   "source": [
    "dummy_data = pd.DataFrame.from_records([\n",
    "    {'flood': .3, 'drought': .1, 'fire': .6},\n",
    "    {'flood': .4, 'drought': .5, 'fire': .1},\n",
    "    {'flood': .1, 'drought': .1, 'fire': .8}\n",
    "])\n",
    "\n",
    "dummy_data = dummy_data.stack().reset_index(name='probability').rename({'level_0': 'src_node', 'level_1': 'hazard'}, axis=1)"
   ]
  },
  {
   "cell_type": "code",
   "execution_count": 41,
   "id": "12e03234-8fb4-45ce-8aac-631efa26a20d",
   "metadata": {},
   "outputs": [],
   "source": [
    "source_hazards_data = pd.read_csv('./source_hazards_dist.csv', index_col=0)"
   ]
  },
  {
   "cell_type": "code",
   "execution_count": 42,
   "id": "4f9be19e-e87a-4318-aa9c-c53fb654a7d0",
   "metadata": {},
   "outputs": [
    {
     "data": {
      "text/html": [
       "<div>\n",
       "<style scoped>\n",
       "    .dataframe tbody tr th:only-of-type {\n",
       "        vertical-align: middle;\n",
       "    }\n",
       "\n",
       "    .dataframe tbody tr th {\n",
       "        vertical-align: top;\n",
       "    }\n",
       "\n",
       "    .dataframe thead th {\n",
       "        text-align: right;\n",
       "    }\n",
       "</style>\n",
       "<table border=\"1\" class=\"dataframe\">\n",
       "  <thead>\n",
       "    <tr style=\"text-align: right;\">\n",
       "      <th></th>\n",
       "      <th>Drought</th>\n",
       "      <th>Eviction</th>\n",
       "      <th>Conflict</th>\n",
       "      <th>Flood</th>\n",
       "      <th>Other</th>\n",
       "    </tr>\n",
       "  </thead>\n",
       "  <tbody>\n",
       "    <tr>\n",
       "      <th>0</th>\n",
       "      <td>0.000000</td>\n",
       "      <td>0.0</td>\n",
       "      <td>0.000000</td>\n",
       "      <td>1.0</td>\n",
       "      <td>0.0</td>\n",
       "    </tr>\n",
       "    <tr>\n",
       "      <th>1</th>\n",
       "      <td>1.000000</td>\n",
       "      <td>0.0</td>\n",
       "      <td>0.000000</td>\n",
       "      <td>0.0</td>\n",
       "      <td>0.0</td>\n",
       "    </tr>\n",
       "    <tr>\n",
       "      <th>2</th>\n",
       "      <td>0.982904</td>\n",
       "      <td>0.0</td>\n",
       "      <td>0.017096</td>\n",
       "      <td>0.0</td>\n",
       "      <td>0.0</td>\n",
       "    </tr>\n",
       "    <tr>\n",
       "      <th>3</th>\n",
       "      <td>0.998476</td>\n",
       "      <td>0.0</td>\n",
       "      <td>0.001524</td>\n",
       "      <td>0.0</td>\n",
       "      <td>0.0</td>\n",
       "    </tr>\n",
       "    <tr>\n",
       "      <th>4</th>\n",
       "      <td>1.000000</td>\n",
       "      <td>0.0</td>\n",
       "      <td>0.000000</td>\n",
       "      <td>0.0</td>\n",
       "      <td>0.0</td>\n",
       "    </tr>\n",
       "    <tr>\n",
       "      <th>...</th>\n",
       "      <td>...</td>\n",
       "      <td>...</td>\n",
       "      <td>...</td>\n",
       "      <td>...</td>\n",
       "      <td>...</td>\n",
       "    </tr>\n",
       "    <tr>\n",
       "      <th>3176</th>\n",
       "      <td>0.000000</td>\n",
       "      <td>0.0</td>\n",
       "      <td>1.000000</td>\n",
       "      <td>0.0</td>\n",
       "      <td>0.0</td>\n",
       "    </tr>\n",
       "    <tr>\n",
       "      <th>3177</th>\n",
       "      <td>1.000000</td>\n",
       "      <td>0.0</td>\n",
       "      <td>0.000000</td>\n",
       "      <td>0.0</td>\n",
       "      <td>0.0</td>\n",
       "    </tr>\n",
       "    <tr>\n",
       "      <th>3178</th>\n",
       "      <td>0.808524</td>\n",
       "      <td>0.0</td>\n",
       "      <td>0.191476</td>\n",
       "      <td>0.0</td>\n",
       "      <td>0.0</td>\n",
       "    </tr>\n",
       "    <tr>\n",
       "      <th>3179</th>\n",
       "      <td>1.000000</td>\n",
       "      <td>0.0</td>\n",
       "      <td>0.000000</td>\n",
       "      <td>0.0</td>\n",
       "      <td>0.0</td>\n",
       "    </tr>\n",
       "    <tr>\n",
       "      <th>3180</th>\n",
       "      <td>1.000000</td>\n",
       "      <td>0.0</td>\n",
       "      <td>0.000000</td>\n",
       "      <td>0.0</td>\n",
       "      <td>0.0</td>\n",
       "    </tr>\n",
       "  </tbody>\n",
       "</table>\n",
       "<p>3181 rows × 5 columns</p>\n",
       "</div>"
      ],
      "text/plain": [
       "       Drought  Eviction  Conflict  Flood  Other\n",
       "0     0.000000       0.0  0.000000    1.0    0.0\n",
       "1     1.000000       0.0  0.000000    0.0    0.0\n",
       "2     0.982904       0.0  0.017096    0.0    0.0\n",
       "3     0.998476       0.0  0.001524    0.0    0.0\n",
       "4     1.000000       0.0  0.000000    0.0    0.0\n",
       "...        ...       ...       ...    ...    ...\n",
       "3176  0.000000       0.0  1.000000    0.0    0.0\n",
       "3177  1.000000       0.0  0.000000    0.0    0.0\n",
       "3178  0.808524       0.0  0.191476    0.0    0.0\n",
       "3179  1.000000       0.0  0.000000    0.0    0.0\n",
       "3180  1.000000       0.0  0.000000    0.0    0.0\n",
       "\n",
       "[3181 rows x 5 columns]"
      ]
     },
     "execution_count": 42,
     "metadata": {},
     "output_type": "execute_result"
    }
   ],
   "source": [
    "source_hazards_data"
   ]
  },
  {
   "cell_type": "code",
   "execution_count": 43,
   "id": "92a0da2c-f4e7-4c7f-aabb-ce1c03129594",
   "metadata": {},
   "outputs": [],
   "source": [
    "data = source_hazards_data\n",
    "data = data.stack().reset_index(name='probability').rename({'level_0': 'src_node', 'level_1': 'hazard'}, axis=1)"
   ]
  },
  {
   "cell_type": "code",
   "execution_count": 44,
   "id": "a3b19cd4-aad9-4ed1-86a7-d92345ac29c6",
   "metadata": {},
   "outputs": [
    {
     "data": {
      "text/html": [
       "<div>\n",
       "<style scoped>\n",
       "    .dataframe tbody tr th:only-of-type {\n",
       "        vertical-align: middle;\n",
       "    }\n",
       "\n",
       "    .dataframe tbody tr th {\n",
       "        vertical-align: top;\n",
       "    }\n",
       "\n",
       "    .dataframe thead th {\n",
       "        text-align: right;\n",
       "    }\n",
       "</style>\n",
       "<table border=\"1\" class=\"dataframe\">\n",
       "  <thead>\n",
       "    <tr style=\"text-align: right;\">\n",
       "      <th></th>\n",
       "      <th>src_node</th>\n",
       "      <th>hazard</th>\n",
       "      <th>probability</th>\n",
       "    </tr>\n",
       "  </thead>\n",
       "  <tbody>\n",
       "    <tr>\n",
       "      <th>0</th>\n",
       "      <td>0</td>\n",
       "      <td>Drought</td>\n",
       "      <td>0.0</td>\n",
       "    </tr>\n",
       "    <tr>\n",
       "      <th>1</th>\n",
       "      <td>0</td>\n",
       "      <td>Eviction</td>\n",
       "      <td>0.0</td>\n",
       "    </tr>\n",
       "    <tr>\n",
       "      <th>2</th>\n",
       "      <td>0</td>\n",
       "      <td>Conflict</td>\n",
       "      <td>0.0</td>\n",
       "    </tr>\n",
       "    <tr>\n",
       "      <th>3</th>\n",
       "      <td>0</td>\n",
       "      <td>Flood</td>\n",
       "      <td>1.0</td>\n",
       "    </tr>\n",
       "    <tr>\n",
       "      <th>4</th>\n",
       "      <td>0</td>\n",
       "      <td>Other</td>\n",
       "      <td>0.0</td>\n",
       "    </tr>\n",
       "    <tr>\n",
       "      <th>...</th>\n",
       "      <td>...</td>\n",
       "      <td>...</td>\n",
       "      <td>...</td>\n",
       "    </tr>\n",
       "    <tr>\n",
       "      <th>15885</th>\n",
       "      <td>3180</td>\n",
       "      <td>Drought</td>\n",
       "      <td>1.0</td>\n",
       "    </tr>\n",
       "    <tr>\n",
       "      <th>15886</th>\n",
       "      <td>3180</td>\n",
       "      <td>Eviction</td>\n",
       "      <td>0.0</td>\n",
       "    </tr>\n",
       "    <tr>\n",
       "      <th>15887</th>\n",
       "      <td>3180</td>\n",
       "      <td>Conflict</td>\n",
       "      <td>0.0</td>\n",
       "    </tr>\n",
       "    <tr>\n",
       "      <th>15888</th>\n",
       "      <td>3180</td>\n",
       "      <td>Flood</td>\n",
       "      <td>0.0</td>\n",
       "    </tr>\n",
       "    <tr>\n",
       "      <th>15889</th>\n",
       "      <td>3180</td>\n",
       "      <td>Other</td>\n",
       "      <td>0.0</td>\n",
       "    </tr>\n",
       "  </tbody>\n",
       "</table>\n",
       "<p>15890 rows × 3 columns</p>\n",
       "</div>"
      ],
      "text/plain": [
       "       src_node    hazard  probability\n",
       "0             0   Drought          0.0\n",
       "1             0  Eviction          0.0\n",
       "2             0  Conflict          0.0\n",
       "3             0     Flood          1.0\n",
       "4             0     Other          0.0\n",
       "...         ...       ...          ...\n",
       "15885      3180   Drought          1.0\n",
       "15886      3180  Eviction          0.0\n",
       "15887      3180  Conflict          0.0\n",
       "15888      3180     Flood          0.0\n",
       "15889      3180     Other          0.0\n",
       "\n",
       "[15890 rows x 3 columns]"
      ]
     },
     "execution_count": 44,
     "metadata": {},
     "output_type": "execute_result"
    }
   ],
   "source": [
    "data"
   ]
  },
  {
   "cell_type": "code",
   "execution_count": 45,
   "id": "05257894-94f1-40d1-b357-830d63891e56",
   "metadata": {},
   "outputs": [
    {
     "data": {
      "text/plain": [
       "<matplotlib.collections.PathCollection at 0x165b2a320>"
      ]
     },
     "execution_count": 45,
     "metadata": {},
     "output_type": "execute_result"
    },
    {
     "data": {
      "image/png": "[encoded data removed]",
      "text/plain": [
       "<Figure size 640x480 with 1 Axes>"
      ]
     },
     "metadata": {},
     "output_type": "display_data"
    }
   ],
   "source": [
    "plt.scatter(range(data.shape[0]), data['probability'], s=2)"
   ]
  },
  {
   "cell_type": "code",
   "execution_count": 46,
   "id": "e202269d-e7e0-48c7-8ec4-953cf354ada8",
   "metadata": {},
   "outputs": [
    {
     "name": "stderr",
     "output_type": "stream",
     "text": [
      "<timed exec>:11: FutureWarning: Passing `palette` without assigning `hue` is deprecated.\n"
     ]
    },
    {
     "name": "stdout",
     "output_type": "stream",
     "text": [
      "CPU times: user 1.08 s, sys: 18.8 ms, total: 1.09 s\n",
      "Wall time: 465 ms\n"
     ]
    },
    {
     "data": {
      "image/png": "[encoded data removed]",
      "text/plain": [
       "<Figure size 318.898x275.591 with 1 Axes>"
      ]
     },
     "metadata": {},
     "output_type": "display_data"
    }
   ],
   "source": [
    "%%time\n",
    "\n",
    "sns.set_theme(\n",
    "    style='ticks',\n",
    "    rc={'patch.edgecolor': 'none'},\n",
    "    font='Arial',\n",
    "    font_scale=.84\n",
    ")\n",
    "\n",
    "cm = 1/2.54 \n",
    "fig, ax = plt.subplots(1, figsize=(8.1*cm, 7*cm), constrained_layout=True)\n",
    "\n",
    "sns.stripplot(\n",
    "    ax=ax, y='probability', x='hazard', data=data, orient='v', size=3, \n",
    "    legend=False, palette=sns.color_palette([hazard_colours[hazard] for hazard in sorted(hazards)], len(hazard_colours)),\n",
    "    order=sorted(hazards), alpha=.3\n",
    ")\n",
    "\n",
    "ax.set_xlabel('')\n",
    "ax.grid('on', alpha=.3)\n",
    "\n",
    "\n",
    "ax.set_ylim(-.1, 1.1)\n",
    "\n",
    "# fig.legend(handles=[\n",
    "#     mpl.lines.Line2D([], [], color='w', marker='o', markerfacecolor='tab:blue', label='source point')]\n",
    "# , bbox_to_anchor=(1,1.1))\n",
    "\n",
    "#fig.suptitle('Which hazards are found along the path?')\n",
    "\n",
    "# fig.savefig('../figs/strip.pdf', dpi=300)\n",
    "fig.savefig('../figs/strip.png', dpi=600)"
   ]
  },
  {
   "cell_type": "markdown",
   "id": "0256b617",
   "metadata": {},
   "source": [
    "- Make color meaningful? — e.g. alpha or transparency or brightness depending on... path length?\n"
   ]
  },
  {
   "cell_type": "markdown",
   "id": "91c49e30-c3e6-4828-8a3e-d7b22083030a",
   "metadata": {},
   "source": [
    "# Sequence plot"
   ]
  },
  {
   "cell_type": "code",
   "execution_count": 63,
   "id": "bb8babb3-aece-43ae-b630-8934024dbc6d",
   "metadata": {},
   "outputs": [],
   "source": [
    "hazards_data = pd.read_csv('./hazards_dist_time_uniform.csv', index_col=0)"
   ]
  },
  {
   "cell_type": "code",
   "execution_count": 64,
   "id": "0a70775a-5a4a-40fa-8e78-7a68c1548294",
   "metadata": {},
   "outputs": [
    {
     "data": {
      "text/html": [
       "<div>\n",
       "<style scoped>\n",
       "    .dataframe tbody tr th:only-of-type {\n",
       "        vertical-align: middle;\n",
       "    }\n",
       "\n",
       "    .dataframe tbody tr th {\n",
       "        vertical-align: top;\n",
       "    }\n",
       "\n",
       "    .dataframe thead th {\n",
       "        text-align: right;\n",
       "    }\n",
       "</style>\n",
       "<table border=\"1\" class=\"dataframe\">\n",
       "  <thead>\n",
       "    <tr style=\"text-align: right;\">\n",
       "      <th></th>\n",
       "      <th>Drought</th>\n",
       "      <th>Eviction</th>\n",
       "      <th>Conflict</th>\n",
       "      <th>Flood</th>\n",
       "      <th>Other</th>\n",
       "    </tr>\n",
       "  </thead>\n",
       "  <tbody>\n",
       "    <tr>\n",
       "      <th>0</th>\n",
       "      <td>0.672430</td>\n",
       "      <td>0.017605</td>\n",
       "      <td>0.257466</td>\n",
       "      <td>0.037410</td>\n",
       "      <td>0.015090</td>\n",
       "    </tr>\n",
       "    <tr>\n",
       "      <th>1</th>\n",
       "      <td>0.884942</td>\n",
       "      <td>0.016347</td>\n",
       "      <td>0.087708</td>\n",
       "      <td>0.009117</td>\n",
       "      <td>0.001886</td>\n",
       "    </tr>\n",
       "    <tr>\n",
       "      <th>2</th>\n",
       "      <td>0.961019</td>\n",
       "      <td>0.002201</td>\n",
       "      <td>0.029236</td>\n",
       "      <td>0.007545</td>\n",
       "      <td>0.000000</td>\n",
       "    </tr>\n",
       "    <tr>\n",
       "      <th>3</th>\n",
       "      <td>0.968878</td>\n",
       "      <td>0.001257</td>\n",
       "      <td>0.023577</td>\n",
       "      <td>0.006287</td>\n",
       "      <td>0.000000</td>\n",
       "    </tr>\n",
       "    <tr>\n",
       "      <th>4</th>\n",
       "      <td>0.984282</td>\n",
       "      <td>0.000000</td>\n",
       "      <td>0.012260</td>\n",
       "      <td>0.003458</td>\n",
       "      <td>0.000000</td>\n",
       "    </tr>\n",
       "  </tbody>\n",
       "</table>\n",
       "</div>"
      ],
      "text/plain": [
       "    Drought  Eviction  Conflict     Flood     Other\n",
       "0  0.672430  0.017605  0.257466  0.037410  0.015090\n",
       "1  0.884942  0.016347  0.087708  0.009117  0.001886\n",
       "2  0.961019  0.002201  0.029236  0.007545  0.000000\n",
       "3  0.968878  0.001257  0.023577  0.006287  0.000000\n",
       "4  0.984282  0.000000  0.012260  0.003458  0.000000"
      ]
     },
     "execution_count": 64,
     "metadata": {},
     "output_type": "execute_result"
    }
   ],
   "source": [
    "hazards_data"
   ]
  },
  {
   "cell_type": "code",
   "execution_count": 57,
   "id": "2ec8c449-9530-4d74-9224-b48d89dcc97e",
   "metadata": {},
   "outputs": [],
   "source": [
    "dummy_data = pd.DataFrame.from_records([\n",
    "    {'Drought': .3, 'Eviction': .1, 'Conflict': .6},\n",
    "    {'Drought': .4, 'Eviction': .5, 'Conflict': .1},\n",
    "    {'Drought': .1, 'Eviction': .1, 'Conflict': .8},\n",
    "    {'Drought': .1, 'Eviction': .1, 'Conflict': .8},\n",
    "    {'Drought': .1, 'Eviction': .1, 'Conflict': .8}\n",
    "])\n",
    "\n",
    "dummy_data['Flood'] = 0\n",
    "dummy_data['Other'] = 0\n",
    "#data.index.name = 'timestep'\n",
    "\n",
    "#data = data.reindex(pd.MultiIndex.from_product(itertools.product(list(range(5)), hazards)))\n",
    "\n",
    "#data = data.stack().reset_index(name='probability').rename({'level_0': 'step', 'level_1': 'hazard'}, axis=1)"
   ]
  },
  {
   "cell_type": "code",
   "execution_count": 58,
   "id": "5087bcf7-cecf-40df-86a5-857a020eba50",
   "metadata": {},
   "outputs": [
    {
     "data": {
      "text/html": [
       "<div>\n",
       "<style scoped>\n",
       "    .dataframe tbody tr th:only-of-type {\n",
       "        vertical-align: middle;\n",
       "    }\n",
       "\n",
       "    .dataframe tbody tr th {\n",
       "        vertical-align: top;\n",
       "    }\n",
       "\n",
       "    .dataframe thead th {\n",
       "        text-align: right;\n",
       "    }\n",
       "</style>\n",
       "<table border=\"1\" class=\"dataframe\">\n",
       "  <thead>\n",
       "    <tr style=\"text-align: right;\">\n",
       "      <th></th>\n",
       "      <th>Drought</th>\n",
       "      <th>Eviction</th>\n",
       "      <th>Conflict</th>\n",
       "      <th>Flood</th>\n",
       "      <th>Other</th>\n",
       "    </tr>\n",
       "  </thead>\n",
       "  <tbody>\n",
       "    <tr>\n",
       "      <th>0</th>\n",
       "      <td>0.3</td>\n",
       "      <td>0.1</td>\n",
       "      <td>0.6</td>\n",
       "      <td>0</td>\n",
       "      <td>0</td>\n",
       "    </tr>\n",
       "    <tr>\n",
       "      <th>1</th>\n",
       "      <td>0.4</td>\n",
       "      <td>0.5</td>\n",
       "      <td>0.1</td>\n",
       "      <td>0</td>\n",
       "      <td>0</td>\n",
       "    </tr>\n",
       "    <tr>\n",
       "      <th>2</th>\n",
       "      <td>0.1</td>\n",
       "      <td>0.1</td>\n",
       "      <td>0.8</td>\n",
       "      <td>0</td>\n",
       "      <td>0</td>\n",
       "    </tr>\n",
       "    <tr>\n",
       "      <th>3</th>\n",
       "      <td>0.1</td>\n",
       "      <td>0.1</td>\n",
       "      <td>0.8</td>\n",
       "      <td>0</td>\n",
       "      <td>0</td>\n",
       "    </tr>\n",
       "    <tr>\n",
       "      <th>4</th>\n",
       "      <td>0.1</td>\n",
       "      <td>0.1</td>\n",
       "      <td>0.8</td>\n",
       "      <td>0</td>\n",
       "      <td>0</td>\n",
       "    </tr>\n",
       "  </tbody>\n",
       "</table>\n",
       "</div>"
      ],
      "text/plain": [
       "   Drought  Eviction  Conflict  Flood  Other\n",
       "0      0.3       0.1       0.6      0      0\n",
       "1      0.4       0.5       0.1      0      0\n",
       "2      0.1       0.1       0.8      0      0\n",
       "3      0.1       0.1       0.8      0      0\n",
       "4      0.1       0.1       0.8      0      0"
      ]
     },
     "execution_count": 58,
     "metadata": {},
     "output_type": "execute_result"
    }
   ],
   "source": [
    "dummy_data"
   ]
  },
  {
   "cell_type": "code",
   "execution_count": 59,
   "id": "350eed07-8f44-45ea-87c1-7bec4f845b94",
   "metadata": {},
   "outputs": [],
   "source": [
    "data = hazards_data"
   ]
  },
  {
   "cell_type": "code",
   "execution_count": 60,
   "id": "c8e8c854-9dcb-4761-8b92-893f6aedd5bd",
   "metadata": {},
   "outputs": [
    {
     "data": {
      "text/html": [
       "<div>\n",
       "<style scoped>\n",
       "    .dataframe tbody tr th:only-of-type {\n",
       "        vertical-align: middle;\n",
       "    }\n",
       "\n",
       "    .dataframe tbody tr th {\n",
       "        vertical-align: top;\n",
       "    }\n",
       "\n",
       "    .dataframe thead th {\n",
       "        text-align: right;\n",
       "    }\n",
       "</style>\n",
       "<table border=\"1\" class=\"dataframe\">\n",
       "  <thead>\n",
       "    <tr style=\"text-align: right;\">\n",
       "      <th></th>\n",
       "      <th>Drought</th>\n",
       "      <th>Eviction</th>\n",
       "      <th>Conflict</th>\n",
       "      <th>Flood</th>\n",
       "      <th>Other</th>\n",
       "    </tr>\n",
       "  </thead>\n",
       "  <tbody>\n",
       "    <tr>\n",
       "      <th>0</th>\n",
       "      <td>0.672430</td>\n",
       "      <td>0.017605</td>\n",
       "      <td>0.257466</td>\n",
       "      <td>0.037410</td>\n",
       "      <td>0.015090</td>\n",
       "    </tr>\n",
       "    <tr>\n",
       "      <th>1</th>\n",
       "      <td>0.884942</td>\n",
       "      <td>0.016347</td>\n",
       "      <td>0.087708</td>\n",
       "      <td>0.009117</td>\n",
       "      <td>0.001886</td>\n",
       "    </tr>\n",
       "    <tr>\n",
       "      <th>2</th>\n",
       "      <td>0.961019</td>\n",
       "      <td>0.002201</td>\n",
       "      <td>0.029236</td>\n",
       "      <td>0.007545</td>\n",
       "      <td>0.000000</td>\n",
       "    </tr>\n",
       "    <tr>\n",
       "      <th>3</th>\n",
       "      <td>0.968878</td>\n",
       "      <td>0.001257</td>\n",
       "      <td>0.023577</td>\n",
       "      <td>0.006287</td>\n",
       "      <td>0.000000</td>\n",
       "    </tr>\n",
       "    <tr>\n",
       "      <th>4</th>\n",
       "      <td>0.984282</td>\n",
       "      <td>0.000000</td>\n",
       "      <td>0.012260</td>\n",
       "      <td>0.003458</td>\n",
       "      <td>0.000000</td>\n",
       "    </tr>\n",
       "  </tbody>\n",
       "</table>\n",
       "</div>"
      ],
      "text/plain": [
       "    Drought  Eviction  Conflict     Flood     Other\n",
       "0  0.672430  0.017605  0.257466  0.037410  0.015090\n",
       "1  0.884942  0.016347  0.087708  0.009117  0.001886\n",
       "2  0.961019  0.002201  0.029236  0.007545  0.000000\n",
       "3  0.968878  0.001257  0.023577  0.006287  0.000000\n",
       "4  0.984282  0.000000  0.012260  0.003458  0.000000"
      ]
     },
     "execution_count": 60,
     "metadata": {},
     "output_type": "execute_result"
    }
   ],
   "source": [
    "data"
   ]
  },
  {
   "cell_type": "code",
   "execution_count": 61,
   "id": "e3a9c721-c53c-4f9a-97c3-3294d9920e30",
   "metadata": {},
   "outputs": [],
   "source": [
    "cmap = mpl.colors.ListedColormap([hazard_colours[key] for key in hazards])"
   ]
  },
  {
   "cell_type": "code",
   "execution_count": 65,
   "id": "9090d72f-023a-4e29-a2e8-baa80b90f05a",
   "metadata": {},
   "outputs": [
    {
     "data": {
      "text/plain": [
       "<matplotlib.legend.Legend at 0x166a43430>"
      ]
     },
     "execution_count": 65,
     "metadata": {},
     "output_type": "execute_result"
    },
    {
     "data": {
      "image/png": "[encoded data removed]",
      "text/plain": [
       "<Figure size 830.709x275.591 with 9 Axes>"
      ]
     },
     "metadata": {},
     "output_type": "display_data"
    }
   ],
   "source": [
    "sns.set_theme(\n",
    "    style='ticks',\n",
    "    rc={'patch.edgecolor': 'none'},\n",
    "    font='Arial',\n",
    "    font_scale=.84\n",
    ")\n",
    "\n",
    "n_steps = data.shape[0]# 5\n",
    "colours = cmap(np.arange(len(hazards)))\n",
    "\n",
    "\n",
    "cm = 1/2.54 \n",
    "fig, axs = plt.subplots(nrows=1, ncols=2*n_steps-1, figsize=(21.1*cm, 7*cm), width_ratios=(n_steps-1)*[.8,.2] + [.8])\n",
    "\n",
    "for idx, ax in enumerate(axs.ravel()):\n",
    "    if idx % 2 == 0:\n",
    "        row_idx = int(idx / 2)\n",
    "        ax.pie(data.loc[row_idx], colors=colours)\n",
    "        #ax.set_title(f\"XXX nodes finish\\nat step {row_idx}\")\n",
    "\n",
    "    else: \n",
    "        ax.annotate('', xy=(1, .5), xytext=(0, .5),\n",
    "            arrowprops=dict(facecolor='black', shrink=5e-3, lw=5e-3))    \n",
    "\n",
    "    ax.axis('off')\n",
    "\n",
    "fig.legend(handles=[mpl.lines.Line2D([], [], color='w', marker='o', markerfacecolor=hazard_colours[hazard], label=hazard) \n",
    "                    for hazard in sorted(hazards)], bbox_to_anchor=(.8,.3),  ncol=len(hazards), frameon=False)\n",
    "\n",
    "# fig.savefig('../figs/pacman.pdf', dpi=300)"
   ]
  }
 ],
 "metadata": {
  "kernelspec": {
   "display_name": "data",
   "language": "python",
   "name": "python3"
  },
  "language_info": {
   "codemirror_mode": {
    "name": "ipython",
    "version": 3
   },
   "file_extension": ".py",
   "mimetype": "text/x-python",
   "name": "python",
   "nbconvert_exporter": "python",
   "pygments_lexer": "ipython3",
   "version": "3.10.3"
  }
 },
 "nbformat": 4,
 "nbformat_minor": 5
}
